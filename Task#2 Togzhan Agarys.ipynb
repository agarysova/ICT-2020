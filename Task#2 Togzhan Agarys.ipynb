{
 "cells": [
  {
   "cell_type": "code",
   "execution_count": 4,
   "metadata": {},
   "outputs": [
    {
     "name": "stdout",
     "output_type": "stream",
     "text": [
      "Column number of first cell: 4\n",
      "Row number of first cell: 4\n",
      "Column number of second cell: 5\n",
      "Row number of second cell: 5\n",
      "NO\n"
     ]
    }
   ],
   "source": [
    "c1 = int(input('Column number of first cell: '))\n",
    "r1 = int(input('Row number of first cell: '))\n",
    "c2 = int(input('Column number of second cell: '))\n",
    "r2 = int(input('Row number of second cell: '))\n",
    "\n",
    "if c1==c2 or r1==r2:\n",
    "    print('YES')\n",
    "else:\n",
    "    print('NO')"
   ]
  },
  {
   "cell_type": "code",
   "execution_count": 7,
   "metadata": {},
   "outputs": [
    {
     "name": "stdout",
     "output_type": "stream",
     "text": [
      "4\n",
      "4\n",
      "5\n",
      "5\n",
      "YES\n"
     ]
    }
   ],
   "source": [
    "c1 = int(input())\n",
    "r1 = int(input())\n",
    "c2 = int(input())\n",
    "r2 = int(input())\n",
    "\n",
    "if abs(c1-c2)<=1 and abs(r1-r2)<=1:\n",
    "    print('YES')\n",
    "else:\n",
    "    print('NO')"
   ]
  },
  {
   "cell_type": "code",
   "execution_count": 8,
   "metadata": {},
   "outputs": [
    {
     "name": "stdout",
     "output_type": "stream",
     "text": [
      "4\n",
      "4\n",
      "5\n",
      "5\n",
      "YES\n"
     ]
    }
   ],
   "source": [
    "c1 = int(input())\n",
    "r1 = int(input())\n",
    "c2 = int(input())\n",
    "r2 = int(input())\n",
    "\n",
    "if c1==c2 or r1==r2:\n",
    "    print('NO')\n",
    "else:\n",
    "    print('YES')"
   ]
  },
  {
   "cell_type": "code",
   "execution_count": 10,
   "metadata": {},
   "outputs": [
    {
     "name": "stdout",
     "output_type": "stream",
     "text": [
      "1\n",
      "1\n",
      "2\n",
      "3\n",
      "NO\n"
     ]
    }
   ],
   "source": [
    "c1 = int(input())\n",
    "r1 = int(input())\n",
    "c2 = int(input())\n",
    "r2 = int(input())\n",
    "\n",
    "if c1==c2 or r1==r2:\n",
    "    print('YES')\n",
    "elif abs(c1-c2)==abs(r1-r2):\n",
    "    print('YES')\n",
    "else:\n",
    "    print('NO')"
   ]
  },
  {
   "cell_type": "code",
   "execution_count": 14,
   "metadata": {},
   "outputs": [
    {
     "name": "stdout",
     "output_type": "stream",
     "text": [
      "1\n",
      "1\n",
      "8\n",
      "8\n",
      "NO\n"
     ]
    }
   ],
   "source": [
    "c1 = int(input())\n",
    "r1 = int(input())\n",
    "c2 = int(input())\n",
    "r2 = int(input())\n",
    "\n",
    "if c1!=c2 or r1!=r2:\n",
    "    if abs(c1-c2)<=2 and abs(r1-r2)<=1:\n",
    "        print('YES')\n",
    "    elif abs(c1-c2)<=1 and abs(r1-r2)<=2:\n",
    "        print('YES')\n",
    "    else:\n",
    "        print('NO')\n",
    "else:\n",
    "    print('NO')"
   ]
  },
  {
   "cell_type": "code",
   "execution_count": 20,
   "metadata": {},
   "outputs": [
    {
     "name": "stdout",
     "output_type": "stream",
     "text": [
      "2\n",
      "10\n",
      "7\n",
      "NO\n"
     ]
    }
   ],
   "source": [
    "n = int(input())\n",
    "m = int(input())\n",
    "k = int(input())\n",
    "\n",
    "if k < n*m:\n",
    "    if k%n==0 or k%m==0:\n",
    "        print('YES')\n",
    "    else:\n",
    "        print('NO')\n",
    "else:\n",
    "    print('NO')"
   ]
  },
  {
   "cell_type": "code",
   "execution_count": 22,
   "metadata": {},
   "outputs": [
    {
     "name": "stdout",
     "output_type": "stream",
     "text": [
      "23\n",
      "52\n",
      "8\n",
      "43\n",
      "8\n"
     ]
    }
   ],
   "source": [
    "n = int(input())\n",
    "m = int(input())\n",
    "x = int(input())\n",
    "y = int(input())\n",
    "\n",
    "r = min(x, y)\n",
    "print(r)"
   ]
  },
  {
   "cell_type": "code",
   "execution_count": 27,
   "metadata": {},
   "outputs": [
    {
     "name": "stdout",
     "output_type": "stream",
     "text": [
      "1\n",
      "2\n",
      "1\n",
      "1 1 2 "
     ]
    }
   ],
   "source": [
    "a = [int(input()), int(input()), int(input())]\n",
    "a.sort()\n",
    "for i in range(len(a)):\n",
    "    print(a[i], end = ' ')"
   ]
  },
  {
   "cell_type": "code",
   "execution_count": 1,
   "metadata": {},
   "outputs": [
    {
     "name": "stdout",
     "output_type": "stream",
     "text": [
      "1\n",
      "2\n",
      "3\n",
      "3\n",
      "2\n",
      "1\n",
      "Boxes are equal\n"
     ]
    }
   ],
   "source": [
    "a1 = int(input())\n",
    "b1 = int(input())\n",
    "c1 = int(input())\n",
    "a2 = int(input())\n",
    "b2 = int(input())\n",
    "c2 = int(input())\n",
    "\n",
    "r1 = [a1, b1, c1]\n",
    "r2 = [a2, b2, c2]\n",
    "r1.sort()\n",
    "r2.sort()\n",
    "\n",
    "if r1==r2:\n",
    "    print('Boxes are equal')\n",
    "elif r1>r2:\n",
    "    print('The first box is larger')\n",
    "elif r1<r2:\n",
    "    print('The second box is larger')\n",
    "else:\n",
    "    print('Boxes are incomparable')"
   ]
  },
  {
   "cell_type": "code",
   "execution_count": 2,
   "metadata": {},
   "outputs": [
    {
     "name": "stdout",
     "output_type": "stream",
     "text": [
      "50\n",
      "1 4 9 16 25 36 49 "
     ]
    }
   ],
   "source": [
    "import math\n",
    "\n",
    "n = int(input())\n",
    "for i in range(1, (int)(math.sqrt(n))+1):\n",
    "    print(i*i, end = ' ')"
   ]
  },
  {
   "cell_type": "code",
   "execution_count": 4,
   "metadata": {},
   "outputs": [
    {
     "name": "stdout",
     "output_type": "stream",
     "text": [
      "15\n",
      "3\n"
     ]
    }
   ],
   "source": [
    "n = int(input())\n",
    "for i in range(2, n):\n",
    "    if n%i==0:\n",
    "        print(i)\n",
    "        break"
   ]
  },
  {
   "cell_type": "code",
   "execution_count": 5,
   "metadata": {},
   "outputs": [
    {
     "name": "stdout",
     "output_type": "stream",
     "text": [
      "50\n",
      "1 2 4 8 16 32 "
     ]
    }
   ],
   "source": [
    "n = int(input())\n",
    "i=1\n",
    "while(i<=n):\n",
    "    print(i, end=' ')\n",
    "    i = i*2"
   ]
  },
  {
   "cell_type": "code",
   "execution_count": 8,
   "metadata": {},
   "outputs": [
    {
     "name": "stdout",
     "output_type": "stream",
     "text": [
      "3\n",
      "6\n",
      "8\n",
      "0\n",
      "17\n"
     ]
    }
   ],
   "source": [
    "sum = 0\n",
    "num = ''\n",
    "\n",
    "while(num != 0):\n",
    "    num = int(input())\n",
    "    sum += num\n",
    "print(sum)"
   ]
  },
  {
   "cell_type": "code",
   "execution_count": 12,
   "metadata": {},
   "outputs": [
    {
     "name": "stdout",
     "output_type": "stream",
     "text": [
      "1\n",
      "3\n",
      "3\n",
      "1\n",
      "0\n",
      "2\n"
     ]
    }
   ],
   "source": [
    "numbers = []\n",
    "cnt = 0\n",
    "num = ''\n",
    "\n",
    "while(num != 0):\n",
    "    num = int(input())\n",
    "    numbers.append(num)\n",
    "    \n",
    "maxim = max(numbers)\n",
    "\n",
    "for number in numbers:\n",
    "    if number==maxim:\n",
    "        cnt+=1\n",
    "print(cnt)"
   ]
  },
  {
   "cell_type": "code",
   "execution_count": 3,
   "metadata": {},
   "outputs": [
    {
     "name": "stdout",
     "output_type": "stream",
     "text": [
      "8\n",
      "7\n"
     ]
    }
   ],
   "source": [
    "A = int(input())\n",
    "FibArray = [0,1]\n",
    " \n",
    "def fibonacci(n):\n",
    "    if n<=0:\n",
    "        print(\"Incorrect input\")\n",
    "    elif n<=len(FibArray):\n",
    "        return FibArray[n-1]\n",
    "    else:\n",
    "        temp_fib = fibonacci(n-1)+fibonacci(n-2)\n",
    "        FibArray.append(temp_fib)\n",
    "        return temp_fib\n",
    "for i in range(2, 20):\n",
    "    if A==fibonacci(i):\n",
    "        print(i)"
   ]
  },
  {
   "cell_type": "code",
   "execution_count": 1,
   "metadata": {},
   "outputs": [
    {
     "name": "stdout",
     "output_type": "stream",
     "text": [
      "1\n",
      "2\n",
      "1\n",
      "2\n",
      "1\n",
      "0\n",
      "2\n"
     ]
    }
   ],
   "source": [
    "numbers = []\n",
    "cnt = 0\n",
    "num = ''\n",
    "\n",
    "while(num!=0):\n",
    "    num=int(input())\n",
    "    numbers.append(num)\n",
    "\n",
    "for i in range(1, len(numbers)-1):\n",
    "    if numbers[i]>numbers[i+1] and numbers[i]>numbers[i-1]:\n",
    "        cnt+=1\n",
    "print(cnt)"
   ]
  },
  {
   "cell_type": "code",
   "execution_count": 12,
   "metadata": {},
   "outputs": [
    {
     "name": "stdout",
     "output_type": "stream",
     "text": [
      "6\n",
      "1 2 2 3 3 3\n",
      "3\n"
     ]
    }
   ],
   "source": [
    "from collections import Counter\n",
    "\n",
    "n = int(input())\n",
    "numbers = list(map(int, input().strip().split()))[:n]\n",
    "print(len(Counter(numbers).keys()))"
   ]
  },
  {
   "cell_type": "code",
   "execution_count": 13,
   "metadata": {},
   "outputs": [
    {
     "name": "stdout",
     "output_type": "stream",
     "text": [
      "5\n",
      "1 2 3 4 5\n",
      "5 1 2 3 4 "
     ]
    }
   ],
   "source": [
    "def rotate(arr, n):\n",
    "    x = arr[n - 1]\n",
    "    for i in range(n - 1, 0, -1): \n",
    "        arr[i] = arr[i - 1]; \n",
    "    arr[0] = x; \n",
    "\n",
    "n = int(input())\n",
    "arr = list(map(int, input().strip().split()))[:n]\n",
    "  \n",
    "rotate(arr, n) \n",
    "\n",
    "for i in range(0, n): \n",
    "    print (arr[i], end = ' ') "
   ]
  },
  {
   "cell_type": "code",
   "execution_count": 21,
   "metadata": {},
   "outputs": [
    {
     "name": "stdout",
     "output_type": "stream",
     "text": [
      "5\n",
      "1 2 3 2 3\n",
      "2\n"
     ]
    }
   ],
   "source": [
    "def equal_pairs(arr, n) :    \n",
    "    count = 0; \n",
    "    \n",
    "    arr.sort(); \n",
    "    i = 0; \n",
    "    while i < (n-1) :\n",
    "        \n",
    "        if (arr[i] == arr[i + 1]) : \n",
    "            count += 1;  \n",
    "            i = i + 2;\n",
    "        else : \n",
    "            i += 1;  \n",
    "  \n",
    "    return count;  \n",
    "\n",
    "if __name__ == \"__main__\" :  \n",
    "  \n",
    "    n = int(input())\n",
    "    arr = list(map(int, input().strip().split()))[:n]\n",
    "  \n",
    "    print(equal_pairs(arr, n));"
   ]
  },
  {
   "cell_type": "code",
   "execution_count": 27,
   "metadata": {},
   "outputs": [
    {
     "name": "stdout",
     "output_type": "stream",
     "text": [
      "IIIIIII...\n",
      "I....II...\n",
      "I.....I...\n",
      "Pins remaining: 1, 7\n"
     ]
    }
   ],
   "source": [
    "N = 10\n",
    "pins = [\"I\"] * N\n",
    "knock_downs = [(8,10), (2,5), (3,6)]\n",
    "\n",
    "for start, stop in knock_downs:\n",
    "    for pin_index in range(start-1, stop):\n",
    "        pins[pin_index] = '.'\n",
    "    print(''.join(pins))\n",
    "\n",
    "remaining = []\n",
    "for pin_number, pin in enumerate(pins, start=1):\n",
    "    if pin == 'I':\n",
    "        remaining.append(str(pin_number))\n",
    "\n",
    "print(\"Pins remaining: {}\".format(', '.join(remaining)))\n",
    "\n",
    "#I solved this problem using the Internet, but I completely parsed the solution"
   ]
  },
  {
   "cell_type": "code",
   "execution_count": null,
   "metadata": {},
   "outputs": [],
   "source": []
  }
 ],
 "metadata": {
  "kernelspec": {
   "display_name": "Python 3",
   "language": "python",
   "name": "python3"
  },
  "language_info": {
   "codemirror_mode": {
    "name": "ipython",
    "version": 3
   },
   "file_extension": ".py",
   "mimetype": "text/x-python",
   "name": "python",
   "nbconvert_exporter": "python",
   "pygments_lexer": "ipython3",
   "version": "3.8.2"
  }
 },
 "nbformat": 4,
 "nbformat_minor": 4
}
