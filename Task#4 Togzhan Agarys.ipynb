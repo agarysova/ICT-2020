{
 "cells": [
  {
   "cell_type": "code",
   "execution_count": 1,
   "metadata": {},
   "outputs": [
    {
     "data": {
      "text/plain": [
       "['b', 'e']"
      ]
     },
     "execution_count": 1,
     "metadata": {},
     "output_type": "execute_result"
    }
   ],
   "source": [
    "#Exercise 128\n",
    "\n",
    "the_dictionary = {'a': 1, 'b': 2, 'c': 3, 'd': 1, 'e': 2}\n",
    "\n",
    "def reverse_lookup(d: dict, a):\n",
    "    \n",
    "    solution = []\n",
    "    for key, value in d.items():\n",
    "        if value == a:\n",
    "            solution.append(key)\n",
    "            \n",
    "    return solution\n",
    "        \n",
    "reverse_lookup(the_dictionary, 2)"
   ]
  },
  {
   "cell_type": "code",
   "execution_count": 2,
   "metadata": {},
   "outputs": [
    {
     "name": "stdout",
     "output_type": "stream",
     "text": [
      "           Total |      Simulated % |       Expected %\n",
      "-------------------------------------------------------\n",
      "               2 |             3.40 |             2.78\n",
      "               3 |             6.30 |             5.56\n",
      "               4 |             9.30 |             8.33\n",
      "               5 |            10.00 |            11.11\n",
      "               6 |            13.80 |            13.89\n",
      "               7 |            17.40 |            16.67\n",
      "               8 |            14.10 |            13.89\n",
      "               9 |            11.00 |            11.11\n",
      "              10 |             6.30 |             8.33\n",
      "              11 |             5.70 |             5.56\n",
      "              12 |             2.70 |             2.78\n"
     ]
    }
   ],
   "source": [
    "#Exercise 129\n",
    "\n",
    "import random\n",
    "def two_dice_roll():\n",
    "    dice1 = random.randrange(6) +1\n",
    "    dice2 = random.randrange(6) +1\n",
    "    return dice1 + dice2\n",
    " \n",
    "def main():\n",
    "    result_dict = {2:0, 3:0, 4:0, 5:0, 6:0, 7:0, 8:0, 9:0, 10:0, 11:0, 12:0}\n",
    "    \n",
    "    for turn in range(1000):\n",
    "        result = two_dice_roll()\n",
    "        result_dict[result] += 1\n",
    "        \n",
    "    print(\"Total\".rjust(16),\"|\", \"Simulated %\".rjust(16),\"|\", \"Expected %\".rjust(16))\n",
    "    print(\"-------------------------------------------------------\")\n",
    "    \n",
    "    for n in range(2,13):\n",
    "        sim_result = str(\"%.2f\"%(result_dict[n]/1000*100))\n",
    "        if n <= 7:\n",
    "            exp_result = str(\"%.2f\"%((n-1)/36*100))\n",
    "        else:\n",
    "            exp_result = str(\"%.2f\"%((12-n+1)/36*100))\n",
    "        print(str(n).rjust(16),\"|\",sim_result.rjust(16),\"|\",exp_result.rjust(16))\n",
    " \n",
    "if __name__ == '__main__':\n",
    "    main()"
   ]
  },
  {
   "cell_type": "code",
   "execution_count": 24,
   "metadata": {},
   "outputs": [
    {
     "name": "stdout",
     "output_type": "stream",
     "text": [
      "Enter the message: Hello, world!\n",
      "4433555555666110966677755531111"
     ]
    }
   ],
   "source": [
    "#Exercise 130\n",
    "\n",
    "symbols = {'1': ['.', ',', '?', '!', ':'],\n",
    "          '2': ['A', 'B', 'C'],\n",
    "          '3': ['D', 'E', 'F'],\n",
    "          '4': ['G', 'H', 'I'],\n",
    "          '5': ['J', 'K', 'L'],\n",
    "          '6': ['M', 'N', 'O'],\n",
    "          '7': ['P', 'Q', 'R', 'S'],\n",
    "          '8': ['T', 'U', 'V'],\n",
    "          '9': ['W', 'X', 'Y', 'Z'],\n",
    "          '0': [' ']\n",
    "          }\n",
    "\n",
    "text = input('Enter the message: ')\n",
    "message = list(text.upper())\n",
    "\n",
    "for letter in message:\n",
    "    for key, values in symbols.items():\n",
    "        if letter in values:\n",
    "            for a in range(values.index(letter)+1):\n",
    "                print(key, end = \"\")"
   ]
  },
  {
   "cell_type": "code",
   "execution_count": 31,
   "metadata": {},
   "outputs": [
    {
     "name": "stdout",
     "output_type": "stream",
     "text": [
      "Enter the message: Hello, world!\n",
      ".... . .-.. .-.. --- .-- --- .-. .-.. -.. "
     ]
    }
   ],
   "source": [
    "#Exercise 131\n",
    "\n",
    "morse_code_dict = { 'A':'.-', 'B':'-...', \n",
    "                    'C':'-.-.', 'D':'-..', 'E':'.', \n",
    "                    'F':'..-.', 'G':'--.', 'H':'....', \n",
    "                    'I':'..', 'J':'.---', 'K':'-.-', \n",
    "                    'L':'.-..', 'M':'--', 'N':'-.', \n",
    "                    'O':'---', 'P':'.--.', 'Q':'--.-', \n",
    "                    'R':'.-.', 'S':'...', 'T':'-', \n",
    "                    'U':'..-', 'V':'...-', 'W':'.--', \n",
    "                    'X':'-..-', 'Y':'-.--', 'Z':'--..', \n",
    "                    '1':'.----', '2':'..---', '3':'...--', \n",
    "                    '4':'....-', '5':'.....', '6':'-....', \n",
    "                    '7':'--...', '8':'---..', '9':'----.', \n",
    "                    '0':'-----'}\n",
    "\n",
    "text = input('Enter the message: ')\n",
    "message = list(text.upper())\n",
    "\n",
    "for letter in message:\n",
    "    for key, value in morse_code_dict.items():\n",
    "        if letter == key:\n",
    "            print(value, end = \" \")"
   ]
  },
  {
   "cell_type": "code",
   "execution_count": 61,
   "metadata": {},
   "outputs": [
    {
     "name": "stdout",
     "output_type": "stream",
     "text": [
      "Enter the postal code: X2A 1B2\n",
      "Nunavut\n",
      "Northwest Territories\n",
      "urban\n"
     ]
    }
   ],
   "source": [
    "#Exercise 132\n",
    "\n",
    "province_dict = {'Newfoundland': 'A',\n",
    "                'Nova Scotia': 'B',\n",
    "                'Prince Edward Island': 'C',\n",
    "                'New Brunswick': 'E',\n",
    "                'Quebec': ['G', 'H', 'J'],\n",
    "                'Ontario': ['K', 'L', 'M', 'N', 'P'],\n",
    "                'Manitoba': 'R',\n",
    "                'Saskatchewan': 'S',\n",
    "                'Alberta': 'T',\n",
    "                'British Columbia': 'V',\n",
    "                'Nunavut': 'X',\n",
    "                'Northwest Territories': 'X',\n",
    "                'Yukon': 'Y'}\n",
    "\n",
    "postal_code = list(input('Enter the postal code: '))\n",
    "\n",
    "def get_key(val): \n",
    "    for key, value in province_dict.items(): \n",
    "         if val == value: \n",
    "             print(key)\n",
    "\n",
    "if postal_code[0] in province_dict.values():\n",
    "    get_key(postal_code[0])\n",
    "else:\n",
    "    print('Invalid postal code')\n",
    "    \n",
    "if postal_code[1] == '0':\n",
    "    print('rural')\n",
    "else:\n",
    "    print('urban')\n",
    "        "
   ]
  },
  {
   "cell_type": "code",
   "execution_count": 1,
   "metadata": {},
   "outputs": [
    {
     "name": "stdout",
     "output_type": "stream",
     "text": [
      "Enter the number: 294\n",
      "two hundred and ninety-four\n"
     ]
    }
   ],
   "source": [
    "#Exercise 133\n",
    "\n",
    "def int_to_en(num):\n",
    "    d = { 0 : 'zero', 1 : 'one', 2 : 'two', 3 : 'three', 4 : 'four', 5 : 'five',\n",
    "          6 : 'six', 7 : 'seven', 8 : 'eight', 9 : 'nine', 10 : 'ten',\n",
    "          11 : 'eleven', 12 : 'twelve', 13 : 'thirteen', 14 : 'fourteen',\n",
    "          15 : 'fifteen', 16 : 'sixteen', 17 : 'seventeen', 18 : 'eighteen',\n",
    "          19 : 'nineteen', 20 : 'twenty',\n",
    "          30 : 'thirty', 40 : 'forty', 50 : 'fifty', 60 : 'sixty',\n",
    "          70 : 'seventy', 80 : 'eighty', 90 : 'ninety' }\n",
    "    k = 1000\n",
    "    m = k * 1000\n",
    "    b = m * 1000\n",
    "    t = b * 1000\n",
    "\n",
    "    assert(0 <= num)\n",
    "\n",
    "    if (num < 20):\n",
    "        return d[num]\n",
    "\n",
    "    if (num < 100):\n",
    "        if num % 10 == 0: return d[num]\n",
    "        else: return d[num // 10 * 10] + '-' + d[num % 10]\n",
    "\n",
    "    if (num < k):\n",
    "        if num % 100 == 0: return d[num // 100] + ' hundred'\n",
    "        else: return d[num // 100] + ' hundred and ' + int_to_en(num % 100)\n",
    "\n",
    "    if (num < m):\n",
    "        if num % k == 0: return int_to_en(num // k) + ' thousand'\n",
    "        else: return int_to_en(num // k) + ' thousand, ' + int_to_en(num % k)\n",
    "\n",
    "    if (num < b):\n",
    "        if (num % m) == 0: return int_to_en(num // m) + ' million'\n",
    "        else: return int_to_en(num // m) + ' million, ' + int_to_en(num % m)\n",
    "\n",
    "    if (num < t):\n",
    "        if (num % b) == 0: return int_to_en(num // b) + ' billion'\n",
    "        else: return int_to_en(num // b) + ' billion, ' + int_to_en(num % b)\n",
    "\n",
    "    if (num % t == 0): return int_to_en(num // t) + ' trillion'\n",
    "    else: return int_to_en(num // t) + ' trillion, ' + int_to_en(num % t)\n",
    "\n",
    "    raise AssertionError('num is too large: %s' % str(num))\n",
    "    \n",
    "\n",
    "num = int(input('Enter the number: '))\n",
    "res = int_to_en(num)\n",
    "print(res)"
   ]
  },
  {
   "cell_type": "code",
   "execution_count": 62,
   "metadata": {},
   "outputs": [
    {
     "name": "stdout",
     "output_type": "stream",
     "text": [
      "Enter the string: Hello, World!\n",
      "10\n"
     ]
    }
   ],
   "source": [
    "#Exercise 134\n",
    "\n",
    "users_input = set(input('Enter the string: '))\n",
    "print(len(users_input))"
   ]
  },
  {
   "cell_type": "code",
   "execution_count": 63,
   "metadata": {},
   "outputs": [
    {
     "name": "stdout",
     "output_type": "stream",
     "text": [
      "Enter the first word: evil\n",
      "Enter the second word: live\n",
      "Anagrams\n"
     ]
    }
   ],
   "source": [
    "#Exercise 135\n",
    "\n",
    "s = list(input('Enter the first word: '))\n",
    "t = list(input('Enter the second word: '))\n",
    "\n",
    "s.sort()\n",
    "t.sort()\n",
    "\n",
    "if s == t:\n",
    "    print('Anagrams')\n",
    "else:\n",
    "    print('Not')"
   ]
  },
  {
   "cell_type": "code",
   "execution_count": 2,
   "metadata": {},
   "outputs": [
    {
     "name": "stdout",
     "output_type": "stream",
     "text": [
      "Enter the first word: I am a weakish speller\n",
      "Enter the second word: William Shakespeare\n",
      "Anagrams\n"
     ]
    }
   ],
   "source": [
    "#Exercise 136\n",
    "\n",
    "s = (input('Enter the first word: '))\n",
    "t = (input('Enter the second word: '))\n",
    "\n",
    "s = list(s.lower())\n",
    "t = list(t.lower())\n",
    "\n",
    "s.sort()\n",
    "t.sort()\n",
    "\n",
    "s = \"\".join(s)\n",
    "t = \"\".join(t)\n",
    "\n",
    "s = s.strip()\n",
    "t = t.strip()\n",
    "\n",
    "if s == t:\n",
    "    print('Anagrams')\n",
    "else:\n",
    "    print('Not')\n",
    "    \n",
    "#I am a weakish speller\n",
    "#William Shakespeare"
   ]
  },
  {
   "cell_type": "code",
   "execution_count": 4,
   "metadata": {},
   "outputs": [
    {
     "name": "stdout",
     "output_type": "stream",
     "text": [
      "Enter the word: Hello\n",
      "8\n"
     ]
    }
   ],
   "source": [
    "#Exercise 137\n",
    "\n",
    "scrabble_board = {1: ['A', 'E', 'I', 'L', 'N', 'O', 'R', 'S', 'T', 'U'],\n",
    "                 2: ['D', 'G'],\n",
    "                 3: ['B', 'C', 'M', 'P'],\n",
    "                 4: ['F', 'H', 'V', 'W', 'Y'],\n",
    "                 5: 'K',\n",
    "                 8: ['J', 'X'],\n",
    "                 10: ['Q', 'Z']}\n",
    "\n",
    "word = input('Enter the word: ')\n",
    "word = list(word.upper())\n",
    "\n",
    "score = 0\n",
    "\n",
    "for letter in word:\n",
    "    for k, v in scrabble_board.items():\n",
    "        if letter in v:\n",
    "            score += k\n",
    "\n",
    "print(score)"
   ]
  },
  {
   "cell_type": "code",
   "execution_count": 61,
   "metadata": {},
   "outputs": [
    {
     "name": "stdout",
     "output_type": "stream",
     "text": [
      "    B    I    N    G    O\n",
      "\n",
      "   13   28   39   53   72\n",
      "\n",
      "    5   19   32   50   65\n",
      "\n",
      "   14   18    X   58   63\n",
      "\n",
      "   12   27   31   52   61\n",
      "\n",
      "   11   25   37   54   62\n",
      "\n"
     ]
    }
   ],
   "source": [
    "#Exercise 138\n",
    "\n",
    "import random\n",
    "\n",
    "def create_card():\n",
    "    numbers_dict = {}\n",
    "    \n",
    "    numbers_dict['B'] = random.sample(range(1,15), 5)\n",
    "    numbers_dict['I'] = random.sample(range(16,30), 5)\n",
    "    numbers_dict['N'] = random.sample(range(31,45), 5)\n",
    "    numbers_dict['G'] = random.sample(range(46,60), 5)\n",
    "    numbers_dict['O'] = random.sample(range(61,75), 5)\n",
    "    \n",
    "    for letter in numbers_dict:\n",
    "        if letter == 'N':\n",
    "            numbers_dict[letter][2] = \"X\" # free space!\n",
    "    \n",
    "    return numbers_dict\n",
    "\n",
    "def display_card():\n",
    "    bingo_dict = create_card()\n",
    "    \n",
    "    for k,v in bingo_dict.items():\n",
    "        print(k.rjust(5), end = \"\")\n",
    "    print(\"\\n\")\n",
    "        \n",
    "    for col in zip(*bingo_dict.values()):\n",
    "        for n in col:\n",
    "            res = ' '.join([str(n)])\n",
    "            print(res.rjust(5), end=\"\")\n",
    "        print(\"\\n\")\n",
    "    \n",
    "        \n",
    "if __name__ == '__main__':\n",
    "    display_card()\n",
    "    "
   ]
  },
  {
   "cell_type": "code",
   "execution_count": null,
   "metadata": {},
   "outputs": [
    {
     "name": "stdout",
     "output_type": "stream",
     "text": [
      "Let's play bingo!\n",
      "\n",
      "Here is your card:\n",
      "\n",
      "B\t1\t8\t11\t12\t4\t\n",
      "\n",
      "I\t27\t16\t20\t23\t18\t\n",
      "\n",
      "N\t37\t32\tX\t36\t34\t\n",
      "\n",
      "G\t46\t48\t51\t56\t53\t\n",
      "\n",
      "O\t62\t61\t70\t66\t71\t\n",
      "\n",
      "\n",
      "\n",
      "\n",
      "Keep pressing enter to continue or type quit to exit.\n",
      "\n"
     ]
    }
   ],
   "source": [
    "#Exercise 139\n",
    "\n",
    "import random\n",
    "\n",
    "random_draw_list = random.sample(range(1, 76), 75)\n",
    "\n",
    "def generate_card():\n",
    "    \"\"\"\n",
    "    Generates a bingo card and stores the numbers in a dictionary.\n",
    "    \"\"\"\n",
    "    card = {\n",
    "        \"B\": [],\n",
    "        \"I\": [],\n",
    "        \"N\": [],\n",
    "        \"G\": [],\n",
    "        \"O\": [],\n",
    "    }\n",
    "    min = 1\n",
    "    max = 15\n",
    "    for letter in card:\n",
    "        card[letter] = random.sample(range(min, max), 5)\n",
    "        min += 15\n",
    "        max += 15\n",
    "        if letter == \"N\":\n",
    "            card[letter][2] = \"X\" # free space!\n",
    "    return card\n",
    "\n",
    "def print_card(card):\n",
    "    \"\"\"\n",
    "    Prints the bingo card.\n",
    "\n",
    "    Arguments:\n",
    "        card (dictionary): The card to be printed out.\n",
    "    \"\"\"\n",
    "    for letter in card:\n",
    "        print(letter, end=\"\\t\")\n",
    "        for number in card[letter]:\n",
    "            print(number, end=\"\\t\")\n",
    "        print(\"\\n\")\n",
    "    print(\"\\n\")\n",
    "\n",
    "def draw(card, list):\n",
    "    \"\"\"\n",
    "    Pops a number off a list of random numbers. Using the pop method ensures no duplicate\n",
    "    numbers will be drawn.\n",
    "\n",
    "    Arguments:\n",
    "        card (dictionary): The card to to check for the number that was drawn.\n",
    "        list (list): The list of random numbers to be drawn from.\n",
    "    \"\"\"\n",
    "    number_drawn = random_draw_list.pop()\n",
    "    for letter in card:\n",
    "        i = 0\n",
    "        for number in card[letter]:\n",
    "            if number == number_drawn:\n",
    "                card[letter][i] = \"X\"\n",
    "            i += 1\n",
    "    return number_drawn\n",
    "\n",
    "def check_win(card):\n",
    "    \"\"\"\n",
    "    First checks for diagonal wins, then four-corner, then horizontal, and finally, vertical.\n",
    "\n",
    "    Arguments:\n",
    "        card (dictionary): The card to check for a win.\n",
    "    \"\"\"\n",
    "    win = False\n",
    "    if card[\"B\"][0] == \"X\" and card[\"I\"][1] == \"X\" and card[\"N\"][2] == \"X\" and card[\"G\"][3] == \"X\" and card[\"O\"][4] == \"X\":\n",
    "        win = True\n",
    "    elif card[\"O\"][0] == \"X\" and card[\"G\"][1] == \"X\" and card[\"N\"][2] == \"X\" and card[\"I\"][3] == \"X\" and card[\"B\"][4] == \"X\":\n",
    "        win = True\n",
    "    elif card[\"B\"][0] == \"X\" and card[\"O\"][4] == \"X\" and card[\"B\"][4] == \"X\" and card[\"O\"][0] == \"X\":\n",
    "        win = True\n",
    "    for letter in card:\n",
    "        if(len(set(card[letter]))==1):\n",
    "            win = True\n",
    "    for i in range(5):\n",
    "        cnt = 0\n",
    "        for letter in card:\n",
    "            if card[letter][i] == \"X\":\n",
    "                cnt += 1\n",
    "        print(cnt)\n",
    "        if cnt == 5:\n",
    "            win = True\n",
    "            break\n",
    "    return win\n",
    "\n",
    "def main():\n",
    "    \"\"\"\n",
    "    Main method for the program. Generates a card, prints it, and loops through drawing\n",
    "    and printing until the check_win method returns True or the user enters \"quit\".\n",
    "    \"\"\"\n",
    "    print(\"Let's play bingo!\")\n",
    "    card = generate_card()\n",
    "\n",
    "    print(\"\\nHere is your card:\\n\")\n",
    "    print_card(card)\n",
    "\n",
    "    print(\"\\nKeep pressing enter to continue or type quit to exit.\\n\")\n",
    "    user_input = input()\n",
    "    win = check_win(card)\n",
    "    balls_till_win = 0\n",
    "\n",
    "    while win == False and user_input != \"quit\":\n",
    "        number_drawn = draw(card, random_draw_list)\n",
    "        balls_till_win += 1\n",
    "\n",
    "        print(f\"\\nNumber drawn: {number_drawn}.\")\n",
    "        print(f\"Total balls drawn: {balls_till_win}.\\n\")\n",
    "        print_card(card)\n",
    "\n",
    "        win = check_win(card)\n",
    "\n",
    "        user_input = input()\n",
    "    if win == True:\n",
    "        print(f\"\\nBingo! Total balls to win: {balls_till_win}.\")\n",
    "    else:\n",
    "        print(\"Goodbye! Thanks for playing!\")\n",
    "\n",
    "main()"
   ]
  },
  {
   "cell_type": "code",
   "execution_count": null,
   "metadata": {},
   "outputs": [],
   "source": []
  }
 ],
 "metadata": {
  "kernelspec": {
   "display_name": "Python 3",
   "language": "python",
   "name": "python3"
  },
  "language_info": {
   "codemirror_mode": {
    "name": "ipython",
    "version": 3
   },
   "file_extension": ".py",
   "mimetype": "text/x-python",
   "name": "python",
   "nbconvert_exporter": "python",
   "pygments_lexer": "ipython3",
   "version": "3.8.2"
  }
 },
 "nbformat": 4,
 "nbformat_minor": 4
}
