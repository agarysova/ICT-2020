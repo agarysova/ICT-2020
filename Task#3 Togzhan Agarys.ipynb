{
 "cells": [
  {
   "cell_type": "code",
   "execution_count": 3,
   "metadata": {},
   "outputs": [
    {
     "name": "stdout",
     "output_type": "stream",
     "text": [
      "Enter string of Petya's programm: Codeforces\n",
      ".c.d.f.r.c.s\n"
     ]
    }
   ],
   "source": [
    "a = input(\"Enter string of Petya's programm: \")\n",
    "a = a.lower()\n",
    "s = \"\"\n",
    "vowels = ['a', 'e', 'i', 'o', 'u', 'y']\n",
    "\n",
    "for i in range(0,len(a)):\n",
    "    if a[i] not in vowels:\n",
    "        s+='.'\n",
    "        s+=a[i]\n",
    "\n",
    "print(s)"
   ]
  },
  {
   "cell_type": "code",
   "execution_count": 4,
   "metadata": {},
   "outputs": [
    {
     "name": "stdout",
     "output_type": "stream",
     "text": [
      "Enter the sum Xenia needs to count: 3+2+1\n",
      "1+2+3\n"
     ]
    }
   ],
   "source": [
    "s = input(\"Enter the sum Xenia needs to count: \")\n",
    "\n",
    "if \"+\" not in s:\n",
    "    print(s)\n",
    "else:\n",
    "    s_splitted = s.split(\"+\")\n",
    "    sum_arr = []\n",
    "    \n",
    "    for i in range(0, len(s_splitted)):\n",
    "        sum_arr.append(s_splitted[i])\n",
    "    sum_arr.sort()\n",
    "    \n",
    "    new_sum = \"\"\n",
    "    for j in range(0, len(sum_arr)):\n",
    "        if j != len(sum_arr)-1:\n",
    "            new_sum += str(sum_arr[j])\n",
    "            new_sum += \"+\"\n",
    "        else:\n",
    "            new_sum += str(sum_arr[j])\n",
    "            \n",
    "    print(new_sum)"
   ]
  },
  {
   "cell_type": "code",
   "execution_count": 10,
   "metadata": {},
   "outputs": [
    {
     "name": "stdout",
     "output_type": "stream",
     "text": [
      "Enter string: konjac\n",
      "Konjac\n"
     ]
    }
   ],
   "source": [
    "s = input(\"Enter string: \")\n",
    "print(s.capitalize())"
   ]
  },
  {
   "cell_type": "code",
   "execution_count": 12,
   "metadata": {},
   "outputs": [
    {
     "name": "stdout",
     "output_type": "stream",
     "text": [
      "1000000001\n",
      "YES\n"
     ]
    }
   ],
   "source": [
    "players = list(input())\n",
    "\n",
    "cnt = 1\n",
    "\n",
    "for i in range(0, len(players)):\n",
    "    if i != len(players)-1:\n",
    "        if players[i] == players[i+1]:\n",
    "            cnt += 1\n",
    "            if cnt >= 7:\n",
    "                break\n",
    "        else:\n",
    "            if cnt >= 7:\n",
    "                break\n",
    "            else:\n",
    "                cnt = 1\n",
    "    else:\n",
    "        pass\n",
    "\n",
    "if cnt >= 7:\n",
    "    print(\"YES\")\n",
    "else:\n",
    "    print(\"NO\") "
   ]
  },
  {
   "cell_type": "code",
   "execution_count": 14,
   "metadata": {},
   "outputs": [
    {
     "name": "stdout",
     "output_type": "stream",
     "text": [
      "xiaodao\n",
      "IGNORE HIM!\n"
     ]
    }
   ],
   "source": [
    "def recognize(name):\n",
    "    \n",
    "    name_letters = list(set(name))\n",
    "    \n",
    "    even = \"CHAT WITH HER!\"\n",
    "    odd = \"IGNORE HIM!\"\n",
    "    \n",
    "    if len(name_letters) % 2 == 0:\n",
    "        return even\n",
    "    else:\n",
    "        return odd\n",
    "    \n",
    "user_name = list(input())\n",
    "print(recognize(user_name))"
   ]
  },
  {
   "cell_type": "code",
   "execution_count": 1,
   "metadata": {},
   "outputs": [
    {
     "name": "stdout",
     "output_type": "stream",
     "text": [
      "Enter the word: ViP\n",
      "VIP\n"
     ]
    }
   ],
   "source": [
    "s = list(input(\"Enter the word: \"))\n",
    "\n",
    "cnt1 = 0\n",
    "cnt2 = 0\n",
    "\n",
    "for i in range(0, len(s)):\n",
    "    if s[i].islower():\n",
    "        cnt1 += 1\n",
    "    elif s[i].isupper:\n",
    "        cnt2 += 1\n",
    "\n",
    "word = \"\".join(s)\n",
    "        \n",
    "if cnt1 < cnt2:\n",
    "    print(word.upper())\n",
    "else:\n",
    "    print(word.lower())"
   ]
  },
  {
   "cell_type": "code",
   "execution_count": 4,
   "metadata": {},
   "outputs": [
    {
     "name": "stdout",
     "output_type": "stream",
     "text": [
      "Enter number of characters: 35\n",
      "Enter the string: TheQuickBrownFoxJumpsOverTheLazyDog\n",
      "YES\n"
     ]
    }
   ],
   "source": [
    "n = int(input(\"Enter number of characters: \"))\n",
    "s = str(input(\"Enter the string: \"))\n",
    "cnt = 0\n",
    "\n",
    "s = s.lower()\n",
    "res = ''.join(sorted(s))\n",
    "\n",
    "for i in range(0, n-1):\n",
    "    if res[i] != res[i+1]:\n",
    "        cnt += 1\n",
    "        \n",
    "if cnt == 25:\n",
    "    print(\"YES\")\n",
    "else:\n",
    "    print(\"NO\")"
   ]
  },
  {
   "cell_type": "code",
   "execution_count": 7,
   "metadata": {},
   "outputs": [
    {
     "name": "stdout",
     "output_type": "stream",
     "text": [
      "Enter word s: abb\n",
      "Enter word t: aba\n",
      "NO\n"
     ]
    }
   ],
   "source": [
    "s = input(\"Enter word s: \")\n",
    "t = input(\"Enter word t: \")\n",
    "\n",
    "t = t[::-1]\n",
    "\n",
    "if s == t:\n",
    "    print(\"YES\")\n",
    "else:\n",
    "    print(\"NO\")"
   ]
  },
  {
   "cell_type": "code",
   "execution_count": 10,
   "metadata": {},
   "outputs": [
    {
     "name": "stdout",
     "output_type": "stream",
     "text": [
      "Enter the number of game played: 6\n",
      "Enter the outcome of each of the game: DADADA\n",
      "Friendship\n"
     ]
    }
   ],
   "source": [
    "n = int(input(\"Enter the number of game played: \"))\n",
    "s = input(\"Enter the outcome of each of the game: \")\n",
    "A = D = 0\n",
    "\n",
    "for i in range(n):\n",
    "    if s[i] == 'A':\n",
    "        A += 1\n",
    "    else:\n",
    "        D += 1\n",
    "        \n",
    "if A>D:\n",
    "    print(\"Anton\")\n",
    "elif A<D:\n",
    "    print(\"Danik\")\n",
    "else:\n",
    "    print(\"Friendship\")"
   ]
  },
  {
   "cell_type": "code",
   "execution_count": 26,
   "metadata": {},
   "outputs": [
    {
     "name": "stdout",
     "output_type": "stream",
     "text": [
      "Enter the word: cAPS\n",
      "Caps\n"
     ]
    }
   ],
   "source": [
    "s = input(\"Enter the word: \")\n",
    "l = 0\n",
    "\n",
    "for i in range(1, len(s)):\n",
    "    if s[i].isupper():\n",
    "        s[i].lower()\n",
    "    \n",
    "s = s.capitalize()\n",
    "            \n",
    "print(s)"
   ]
  },
  {
   "cell_type": "code",
   "execution_count": 22,
   "metadata": {},
   "outputs": [
    {
     "name": "stdout",
     "output_type": "stream",
     "text": [
      "Enter the length of string: 10\n",
      "Enter the string: nznooeeoer\n",
      "1\n",
      "1\n",
      "0\n"
     ]
    }
   ],
   "source": [
    "n = int(input(\"Enter the length of string: \"))\n",
    "s = input(\"Enter the string: \")\n",
    "\n",
    "for i in range(n):\n",
    "    if s[i] == 'n':\n",
    "        print(\"1\")\n",
    "        \n",
    "for i in range(n):\n",
    "    if s[i] == 'z':\n",
    "        print(\"0\")"
   ]
  },
  {
   "cell_type": "code",
   "execution_count": 25,
   "metadata": {},
   "outputs": [
    {
     "name": "stdout",
     "output_type": "stream",
     "text": [
      "Enter the length: 10\n",
      "Enter the file name: xxxxxxxxxx\n",
      "8\n"
     ]
    }
   ],
   "source": [
    "n = int(input(\"Enter the length: \"))\n",
    "s = input(\"Enter the file name: \")\n",
    "cnt = 0\n",
    "ans = 0\n",
    "\n",
    "for i in range(n):\n",
    "    if s[i] == 'x':\n",
    "        cnt += 1\n",
    "        if cnt>2:\n",
    "            ans += 1\n",
    "    else:\n",
    "        cnt = 0\n",
    "print(ans)"
   ]
  },
  {
   "cell_type": "code",
   "execution_count": null,
   "metadata": {},
   "outputs": [],
   "source": []
  }
 ],
 "metadata": {
  "kernelspec": {
   "display_name": "Python 3",
   "language": "python",
   "name": "python3"
  },
  "language_info": {
   "codemirror_mode": {
    "name": "ipython",
    "version": 3
   },
   "file_extension": ".py",
   "mimetype": "text/x-python",
   "name": "python",
   "nbconvert_exporter": "python",
   "pygments_lexer": "ipython3",
   "version": "3.8.2"
  }
 },
 "nbformat": 4,
 "nbformat_minor": 4
}
