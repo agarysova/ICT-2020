{
 "cells": [
  {
   "cell_type": "code",
   "execution_count": 3,
   "metadata": {},
   "outputs": [
    {
     "name": "stdout",
     "output_type": "stream",
     "text": [
      "Togzhan, togzhanagarys@icloud.com\n"
     ]
    }
   ],
   "source": [
    "print('Togzhan, togzhanagarys@icloud.com')"
   ]
  },
  {
   "cell_type": "code",
   "execution_count": 2,
   "metadata": {},
   "outputs": [
    {
     "name": "stdout",
     "output_type": "stream",
     "text": [
      "Please enter your name: Togzhan\n",
      "Hello, Togzhan\n"
     ]
    }
   ],
   "source": [
    "name = input('Please enter your name: ')\n",
    "print('Hello, ' + name)"
   ]
  },
  {
   "cell_type": "code",
   "execution_count": 9,
   "metadata": {},
   "outputs": [
    {
     "name": "stdout",
     "output_type": "stream",
     "text": [
      "Enter width of a room in meters: 5\n",
      "Enter length of a room in meters: 5\n",
      "The area of the room is 25.0 m^2\n"
     ]
    }
   ],
   "source": [
    "w = int(input('Enter width of a room in meters: '))\n",
    "l = int(input('Enter length of a room in meters: '))\n",
    "s = float(w*l)\n",
    "print('The area of the room is', s, 'm^2')"
   ]
  },
  {
   "cell_type": "code",
   "execution_count": 10,
   "metadata": {},
   "outputs": [
    {
     "name": "stdout",
     "output_type": "stream",
     "text": [
      "Enter length in feet: 10\n",
      "Enter width in feet: 10\n",
      "The area of the field is 0.002295684113865932 acres\n"
     ]
    }
   ],
   "source": [
    "l = int(input('Enter length in feet: '))\n",
    "w = int(input('Enter width in feet: '))\n",
    "s = (l*w)/43560\n",
    "print('The area of the field is', s, 'acres')"
   ]
  },
  {
   "cell_type": "code",
   "execution_count": 17,
   "metadata": {},
   "outputs": [
    {
     "name": "stdout",
     "output_type": "stream",
     "text": [
      "How many containers that holding one liter or less do you have? 5\n",
      "How many containers that holding more than one liter do you have? 4\n",
      "Your refund is 1.50 $\n"
     ]
    }
   ],
   "source": [
    "l = int(input('How many containers that holding one liter or less do you have? '))\n",
    "m = int(input('How many containers that holding more than one liter do you have? '))\n",
    "l = l*0.10\n",
    "m = m*0.25\n",
    "s = float(l + m)\n",
    "s = format(s, '.2f')\n",
    "print('Your refund is', s, '$')"
   ]
  },
  {
   "cell_type": "code",
   "execution_count": 24,
   "metadata": {},
   "outputs": [
    {
     "name": "stdout",
     "output_type": "stream",
     "text": [
      "What is cost of a meal? 1000\n",
      "Tax:  60.00\n",
      "Tip:  180.00\n",
      "Total  1240.00\n"
     ]
    }
   ],
   "source": [
    "cost = float(input('What is cost of a meal? '))\n",
    "tax = cost/100 * 6\n",
    "tip = cost/100 * 18\n",
    "total = cost + tax + tip\n",
    "print('Tax: ', format(tax, '.2f'))\n",
    "print('Tip: ', format(tip, '.2f'))\n",
    "print('Total ', format(total, '.2f'))"
   ]
  },
  {
   "cell_type": "code",
   "execution_count": 5,
   "metadata": {},
   "outputs": [
    {
     "name": "stdout",
     "output_type": "stream",
     "text": [
      "Enter n: 5\n",
      "Sum of the first n positive integers is:  15.0\n"
     ]
    }
   ],
   "source": [
    "n = int(input('Enter n: '))\n",
    "sum = n*(n+1)/2\n",
    "print('Sum of the first n positive integers is: ', sum)"
   ]
  },
  {
   "cell_type": "code",
   "execution_count": 7,
   "metadata": {},
   "outputs": [
    {
     "name": "stdout",
     "output_type": "stream",
     "text": [
      "The number of widgets: 3\n",
      "The number of gizmons: 3\n",
      "Total weight:  561 grams\n"
     ]
    }
   ],
   "source": [
    "w = int(input('The number of widgets: '))\n",
    "g = int(input('The number of gizmons: '))\n",
    "total = (w*75)+(g*112)\n",
    "print('Total weight: ', total, 'grams')"
   ]
  },
  {
   "cell_type": "code",
   "execution_count": 8,
   "metadata": {},
   "outputs": [
    {
     "name": "stdout",
     "output_type": "stream",
     "text": [
      "The amount of money deposited into the account: 50\n",
      "The amount after 1 year:  52.0\n",
      "The amount after 2 year:  54.08\n",
      "The amount after 3 year:  56.24\n"
     ]
    }
   ],
   "source": [
    "deposited = int(input('The amount of money deposited into the account: '))\n",
    "total1 = deposited*1.04\n",
    "total2 = total1*1.04\n",
    "total3 = total2*1.04\n",
    "print('The amount after 1 year: ', round(total1, 2))\n",
    "print('The amount after 2 year: ', round(total2, 2))\n",
    "print('The amount after 3 year: ', round(total3, 2))"
   ]
  },
  {
   "cell_type": "code",
   "execution_count": 2,
   "metadata": {},
   "outputs": [
    {
     "name": "stdout",
     "output_type": "stream",
     "text": [
      "a: 10\n",
      "b: 5\n",
      "Sum:  15\n",
      "Difference:  5\n",
      "Product:  50\n",
      "Quotient:  2.0\n",
      "Remainder:  0\n",
      "Logarithm:  1.0\n",
      "a to the b:  100000\n"
     ]
    }
   ],
   "source": [
    "import math\n",
    "a = int(input('a: '))\n",
    "b = int(input('b: '))\n",
    "sum = a+b\n",
    "diff = a-b\n",
    "prod = a*b\n",
    "quot = a/b\n",
    "rem = a%b\n",
    "loga = math.log10(a)\n",
    "powe = a**b\n",
    "print('Sum: ', sum)\n",
    "print('Difference: ', diff)\n",
    "print('Product: ', prod)\n",
    "print('Quotient: ', quot)\n",
    "print('Remainder: ', rem)\n",
    "print('Logarithm: ', loga)\n",
    "print('a to the b: ', powe)"
   ]
  },
  {
   "cell_type": "code",
   "execution_count": 3,
   "metadata": {},
   "outputs": [
    {
     "name": "stdout",
     "output_type": "stream",
     "text": [
      "Value in American units: 10\n",
      "2352.15\n"
     ]
    }
   ],
   "source": [
    "american = float(input(\"Value in American units: \"))\n",
    "canadian = american*235.215\n",
    "print(canadian)"
   ]
  },
  {
   "cell_type": "code",
   "execution_count": 17,
   "metadata": {},
   "outputs": [
    {
     "name": "stdout",
     "output_type": "stream",
     "text": [
      "t1: 4\n",
      "g1: 5\n",
      "t2: 6\n",
      "g2: 7\n",
      "Distance:  1000.574057141667\n"
     ]
    }
   ],
   "source": [
    "import math\n",
    "t1 = int(input('t1: '))\n",
    "g1 = int(input('g1: '))\n",
    "t2 = int(input('t2: '))\n",
    "g2 = int(input('g2: '))\n",
    "\n",
    "distance = 6371.01 * math.acos(math.sin(math.radians(t1)))*math.sin(math.radians(t2)) + math.cos(math.radians(t1))*math.cos(math.radians(t2))*math.cos(math.radians(g1-g2))\n",
    "\n",
    "print('Distance: ', distance)"
   ]
  },
  {
   "cell_type": "code",
   "execution_count": 5,
   "metadata": {},
   "outputs": [
    {
     "name": "stdout",
     "output_type": "stream",
     "text": [
      "Please enter number of cents: 150\n",
      "toonies: 0.75\n",
      "loonies: 1.5\n",
      "quarters: 2.0\n",
      "dimes: 0.0\n",
      "nickels: 0.0\n",
      "pennies: 0.0\n"
     ]
    }
   ],
   "source": [
    "toonie_cents = 200\n",
    "loonie_cents = 100\n",
    "quarter_cents = 25\n",
    "dime_cents = 10\n",
    "nickel_cents = 5\n",
    "penny_cents = 1\n",
    "\n",
    "my_cents = int(input(\"Please enter number of cents: \"))\n",
    "print(\"toonies: \" + str(my_cents/toonie_cents))\n",
    "my_cents = my_cents%toonie_cents\n",
    "print(\"loonies: \"+ str(my_cents/loonie_cents))\n",
    "my_cents = my_cents%loonie_cents\n",
    "print(\"quarters: \"+ str(my_cents/quarter_cents))\n",
    "my_cents = my_cents%quarter_cents\n",
    "print(\"dimes: \" + str(my_cents/dime_cents))\n",
    "my_cents = my_cents%dime_cents\n",
    "print(\"nickels: \"+ str(my_cents/nickel_cents))\n",
    "my_cents = my_cents%nickel_cents\n",
    "print(\"pennies: \"+str(my_cents/penny_cents))"
   ]
  },
  {
   "cell_type": "code",
   "execution_count": 6,
   "metadata": {},
   "outputs": [
    {
     "name": "stdout",
     "output_type": "stream",
     "text": [
      "Feet: 15\n",
      "Inch: 10\n",
      "Height in centimetres is 482.6\n"
     ]
    }
   ],
   "source": [
    "feet = int(input(\"Feet: \"))\n",
    "inch = int(input(\"Inch: \"))\n",
    "height_in_inches = feet*12 + inch\n",
    "\n",
    "height_in_centimetres = height_in_inches*2.54\n",
    "print(\"Height in centimetres is \" + str(height_in_centimetres))"
   ]
  },
  {
   "cell_type": "code",
   "execution_count": 7,
   "metadata": {},
   "outputs": [
    {
     "name": "stdout",
     "output_type": "stream",
     "text": [
      "In feet: 5\n",
      "In inches 60\n",
      "In yards 1.6666666666666667\n",
      "In miles 0.000946969696969697\n"
     ]
    }
   ],
   "source": [
    "feet = int(input(\"In feet: \"))\n",
    "print(\"In inches \"+ str(feet*12))\n",
    "print(\"In yards \"+ str(feet/3))\n",
    "print(\"In miles \" + str(feet/5280))"
   ]
  },
  {
   "cell_type": "code",
   "execution_count": 11,
   "metadata": {},
   "outputs": [
    {
     "name": "stdout",
     "output_type": "stream",
     "text": [
      "Enter the radius: 5\n",
      "The area is  78.54\n",
      "The volume is  523.60\n"
     ]
    }
   ],
   "source": [
    "import math\n",
    "radius = int(input(\"Enter the radius: \"))\n",
    "area = math.pi * radius*radius\n",
    "volume = 4*math.pi*radius*radius*radius/3\n",
    "\n",
    "print(\"The area: \", format(area, '.2f'))\n",
    "print(\"The volume: \", format(volume, '.2f'))"
   ]
  },
  {
   "cell_type": "code",
   "execution_count": 12,
   "metadata": {},
   "outputs": [
    {
     "name": "stdout",
     "output_type": "stream",
     "text": [
      "Enter the mass: 45\n",
      "Enter the temperature change: 15\n",
      "Total energy in joules  2825.55\n",
      "Total cost is  0.00698539308831\n"
     ]
    }
   ],
   "source": [
    "mass = int(input(\"Enter the mass: \"))\n",
    "temperature_change = int(input(\"Enter the temperature change: \"))\n",
    "heat_capacity_of_water = 4.186\n",
    "electricity_cost = 8.9\n",
    "joule_to_kilowatthour = 2.77778e-7\n",
    "\n",
    "total_energy = mass*heat_capacity_of_water*temperature_change\n",
    "print(\"Total energy in joules \", total_energy)\n",
    "\n",
    "enery_in_kilowatthour = total_energy*joule_to_kilowatthour\n",
    "total_cost = enery_in_kilowatthour*electricity_cost\n",
    "\n",
    "print(\"Total cost: \", total_cost)"
   ]
  },
  {
   "cell_type": "code",
   "execution_count": 14,
   "metadata": {},
   "outputs": [
    {
     "name": "stdout",
     "output_type": "stream",
     "text": [
      "Enter the radius: 10\n",
      "Ehter the height: 15\n",
      "Volume of the cylinder is 4712.4\n"
     ]
    }
   ],
   "source": [
    "import math\n",
    "radius = float(input(\"Enter the radius: \"))\n",
    "height = float(input(\"Ehter the height: \"))\n",
    "Volume = math.pi*radius*radius*height\n",
    "print(\"Volume of the cylinder is %.1f\" % Volume)"
   ]
  },
  {
   "cell_type": "code",
   "execution_count": 15,
   "metadata": {},
   "outputs": [
    {
     "name": "stdout",
     "output_type": "stream",
     "text": [
      "Enter the height: 15\n",
      "The final velocity is 17.146428199482248\n"
     ]
    }
   ],
   "source": [
    "import math\n",
    "height = int(input(\"Enter the height: \"))\n",
    "gravity_acceleration = 9.8\n",
    "velocity = math.sqrt(2*gravity_acceleration*height)\n",
    "print(\"The final velocity: \"+ str(velocity))"
   ]
  },
  {
   "cell_type": "code",
   "execution_count": 16,
   "metadata": {},
   "outputs": [
    {
     "name": "stdout",
     "output_type": "stream",
     "text": [
      "Pressure: 45\n",
      "Volume: 15\n",
      "Temperature: 40\n",
      "The amount of gas in moles is 140.29875\n"
     ]
    }
   ],
   "source": [
    "pressure = float(input(\"Pressure: \"))\n",
    "volume = float(input(\"Volume: \"))\n",
    "temperature = float(input(\"Temperature: \"))\n",
    "ideal_gas_constant = 8.314\n",
    "amount_of_moles = pressure*volume/temperature*ideal_gas_constant\n",
    "print(\"The amount of gas in moles: \"+ str(amount_of_moles))"
   ]
  },
  {
   "cell_type": "code",
   "execution_count": 18,
   "metadata": {},
   "outputs": [
    {
     "name": "stdout",
     "output_type": "stream",
     "text": [
      "Base: 5\n",
      "Height: 4\n",
      "Area of a triangle: 10.0\n"
     ]
    }
   ],
   "source": [
    "base = int(input('Base: '))\n",
    "height = int(input('Height: '))\n",
    "area = base*height/2\n",
    "print(\"Area of a triangle:\", area)"
   ]
  },
  {
   "cell_type": "code",
   "execution_count": 19,
   "metadata": {},
   "outputs": [
    {
     "name": "stdout",
     "output_type": "stream",
     "text": [
      "5\n",
      "5\n",
      "5\n",
      "The area is 10.825317547305483\n"
     ]
    }
   ],
   "source": [
    "import math\n",
    "s1 = int(input())\n",
    "s2 = int(input())\n",
    "s3 = int(input())\n",
    "s = (s1+s2+s3)/2\n",
    "area = math.sqrt(s*(s-s1)*(s-s2)*(s-s3))\n",
    "print(\"The area is \"+ str(area))"
   ]
  },
  {
   "cell_type": "code",
   "execution_count": 20,
   "metadata": {},
   "outputs": [
    {
     "name": "stdout",
     "output_type": "stream",
     "text": [
      "Enter the side: 5\n",
      "Enter the number of sides: 4\n",
      "The area:  25.000000000000004\n"
     ]
    }
   ],
   "source": [
    "import math\n",
    "s = int(input(\"Enter the side: \"))\n",
    "n = int(input(\"Enter the number of sides: \"))\n",
    "area = n* s*s/(4*math.tan(math.pi/n))\n",
    "print('The area: ', area)"
   ]
  },
  {
   "cell_type": "code",
   "execution_count": 21,
   "metadata": {},
   "outputs": [
    {
     "name": "stdout",
     "output_type": "stream",
     "text": [
      "Days: 1\n",
      "Hours: 16\n",
      "Minutes: 25\n",
      "Seconds: 59\n",
      "Total in seconds:  145559\n"
     ]
    }
   ],
   "source": [
    "days = int(input('Days: '))\n",
    "hours = int(input('Hours: '))\n",
    "minutes = int(input('Minutes: '))\n",
    "seconds = int(input('Seconds: '))\n",
    "\n",
    "seconds_in_day = 86400\n",
    "\n",
    "total_seconds = days*seconds_in_day + hours*3600 + minutes*60 + seconds\n",
    "\n",
    "print(\"Total in seconds: \", total_seconds)"
   ]
  },
  {
   "cell_type": "code",
   "execution_count": 22,
   "metadata": {},
   "outputs": [
    {
     "name": "stdout",
     "output_type": "stream",
     "text": [
      "Seconds: 145559\n",
      "The equivalent time is  1:16:25:59.\n"
     ]
    }
   ],
   "source": [
    "total_seconds = int(input('Seconds: '))\n",
    "\n",
    "days = total_seconds/86400\n",
    "total_seconds = total_seconds%86400\n",
    "\n",
    "hours = total_seconds/3600\n",
    "total_seconds = total_seconds%3600\n",
    "\n",
    "minutes= total_seconds/60\n",
    "total_seconds = total_seconds%60\n",
    "\n",
    "print(\"The equivalent time is \",\"%d:%02d:%02d:%02d.\" % (days, hours, minutes, total_seconds))"
   ]
  },
  {
   "cell_type": "code",
   "execution_count": 24,
   "metadata": {},
   "outputs": [
    {
     "name": "stdout",
     "output_type": "stream",
     "text": [
      "Tue Sep 22 22:12:00 2020\n"
     ]
    }
   ],
   "source": [
    "import time\n",
    "print(time.asctime())"
   ]
  },
  {
   "cell_type": "code",
   "execution_count": 25,
   "metadata": {},
   "outputs": [
    {
     "name": "stdout",
     "output_type": "stream",
     "text": [
      "Height: 2\n",
      "Weight: 80\n",
      "Body mass index:  20.0\n"
     ]
    }
   ],
   "source": [
    "height = float(input('Height: '))\n",
    "weight = int(input('Weight: '))\n",
    "body_mass_index = weight/(height*height)\n",
    "print('Body mass index: ', body_mass_index)"
   ]
  },
  {
   "cell_type": "code",
   "execution_count": 27,
   "metadata": {},
   "outputs": [
    {
     "name": "stdout",
     "output_type": "stream",
     "text": [
      "The air temperature: 8\n",
      "The wind speed: 5\n",
      "The wind chill index:  7\n"
     ]
    }
   ],
   "source": [
    "air_temperature = float(input('The air temperature: '))\n",
    "wind_speed = float(input('The wind speed: '))\n",
    "wci = 13.12 + 0.6215*air_temperature - 11.37*wind_speed**0.16 + 0.3965*air_temperature*(wind_speed**0.16)\n",
    "print('The wind chill index: ', round(wci))"
   ]
  },
  {
   "cell_type": "code",
   "execution_count": 28,
   "metadata": {},
   "outputs": [
    {
     "name": "stdout",
     "output_type": "stream",
     "text": [
      "In celsius: 45\n",
      "In Fahrenheit: 113.0\n",
      "In Kelvin: 318.15\n"
     ]
    }
   ],
   "source": [
    "celsius = int(input('In celsius: '))\n",
    "fahrenheit = 1.8*celsius +32\n",
    "kelvin = celsius + 273.15\n",
    "print(\"In Fahrenheit: \"+ str(fahrenheit))\n",
    "print(\"In Kelvin: \" + str(kelvin))"
   ]
  },
  {
   "cell_type": "code",
   "execution_count": 30,
   "metadata": {},
   "outputs": [
    {
     "name": "stdout",
     "output_type": "stream",
     "text": [
      "Pressure in kilipascals: 55\n",
      "In pounds per squareinch:  7.9770900000000005\n",
      "In pounds per squaremm of mercury:  412.533\n",
      "In pounds per squaremm of atmosphere:  0.5428077966938071\n"
     ]
    }
   ],
   "source": [
    "kp = int(input('Pressure in kilipascals: '))\n",
    "sin = kp*0.145038\n",
    "som = kp*7.5006\n",
    "soa = kp/101.325\n",
    "print('In pounds per squareinch: ', sin)\n",
    "print('In pounds per squaremm of mercury: ', som)\n",
    "print('In pounds per squaremm of atmosphere: ', soa)"
   ]
  },
  {
   "cell_type": "code",
   "execution_count": 32,
   "metadata": {},
   "outputs": [
    {
     "name": "stdout",
     "output_type": "stream",
     "text": [
      "1111\n",
      "4\n"
     ]
    }
   ],
   "source": [
    "number = int(input())\n",
    "forth_digit = number%10\n",
    "first_digit = number/1000\n",
    "second_digit = number/100%10\n",
    "third_digit =(number-forth_digit)/10%10\n",
    "print(round(first_digit+second_digit+third_digit+forth_digit))"
   ]
  },
  {
   "cell_type": "code",
   "execution_count": 35,
   "metadata": {},
   "outputs": [
    {
     "name": "stdout",
     "output_type": "stream",
     "text": [
      "4\n",
      "5\n",
      "6\n",
      "4\n",
      "5\n",
      "6\n"
     ]
    }
   ],
   "source": [
    "import math\n",
    "a = int(input())\n",
    "b = int(input())\n",
    "c = int(input())\n",
    "maximum = max(a,b,c)\n",
    "minimum = min(a,b,c)\n",
    "middle = a+b+c - minimum - maximum\n",
    "print(minimum)\n",
    "print(middle)\n",
    "print(maximum)"
   ]
  },
  {
   "cell_type": "code",
   "execution_count": 36,
   "metadata": {},
   "outputs": [
    {
     "name": "stdout",
     "output_type": "stream",
     "text": [
      "Enter the number of day old bread: 3\n",
      "Regular price: 10.47\n",
      "Discount: 6.28\n",
      "Total price: 4.19\n"
     ]
    }
   ],
   "source": [
    "bread_price = 3.49\n",
    "discount_rate = 0.60\n",
    "number = int(input(\"Enter the number of day old bread: \"))\n",
    "regular_price = number*bread_price\n",
    "discount = regular_price*discount_rate\n",
    "total = regular_price - discount\n",
    "print(\"Regular price: %.2f\" %regular_price)\n",
    "print(\"Discount: %.2f\" %discount)\n",
    "print(\"Total price: %.2f\" %total)"
   ]
  },
  {
   "cell_type": "code",
   "execution_count": null,
   "metadata": {},
   "outputs": [],
   "source": []
  }
 ],
 "metadata": {
  "kernelspec": {
   "display_name": "Python 3",
   "language": "python",
   "name": "python3"
  },
  "language_info": {
   "codemirror_mode": {
    "name": "ipython",
    "version": 3
   },
   "file_extension": ".py",
   "mimetype": "text/x-python",
   "name": "python",
   "nbconvert_exporter": "python",
   "pygments_lexer": "ipython3",
   "version": "3.8.2"
  }
 },
 "nbformat": 4,
 "nbformat_minor": 4
}
